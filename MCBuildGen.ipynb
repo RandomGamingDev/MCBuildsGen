{
  "cells": [
    {
      "cell_type": "markdown",
      "metadata": {
        "id": "7dxAECtP5nbh"
      },
      "source": [
        "# Minecraft AI Build Generator"
      ]
    },
    {
      "cell_type": "markdown",
      "metadata": {
        "id": "ygFZNTXt54R8"
      },
      "source": [
        "## Install Dependencies"
      ]
    },
    {
      "cell_type": "code",
      "execution_count": null,
      "metadata": {
        "collapsed": true,
        "id": "a43tNZ-oYUvp",
        "colab": {
          "base_uri": "https://localhost:8080/"
        },
        "outputId": "da40bd48-7a3d-40d5-d2cc-88131afa61ee"
      },
      "outputs": [
        {
          "output_type": "stream",
          "name": "stdout",
          "text": [
            "Requirement already satisfied: numpy in ./.asdf/installs/python/3.9.1/lib/python3.9/site-packages (1.26.4)\r\n",
            "Requirement already satisfied: pandas in ./.asdf/installs/python/3.9.1/lib/python3.9/site-packages (2.2.2)\r\n",
            "Requirement already satisfied: diffusers==0.27.2 in ./.asdf/installs/python/3.9.1/lib/python3.9/site-packages (from diffusers[training]==0.27.2) (0.27.2)\r\n",
            "Requirement already satisfied: transformers==4.41.1 in ./.asdf/installs/python/3.9.1/lib/python3.9/site-packages (4.41.1)\r\n",
            "Requirement already satisfied: huggingface==0.0.1 in ./.asdf/installs/python/3.9.1/lib/python3.9/site-packages (0.0.1)\r\n",
            "Requirement already satisfied: huggingface-hub==0.23.1 in ./.asdf/installs/python/3.9.1/lib/python3.9/site-packages (0.23.1)\r\n",
            "Requirement already satisfied: ipywidgets==7.7.1 in ./.asdf/installs/python/3.9.1/lib/python3.9/site-packages (7.7.1)\r\n",
            "Requirement already satisfied: matplotlib==3.9.0 in ./.asdf/installs/python/3.9.1/lib/python3.9/site-packages (3.9.0)\r\n",
            "Requirement already satisfied: torchvision==0.18.0 in ./.asdf/installs/python/3.9.1/lib/python3.9/site-packages (0.18.0)\n",
            "Requirement already satisfied: importlib-metadata in ./.asdf/installs/python/3.9.1/lib/python3.9/site-packages (from diffusers==0.27.2->diffusers[training]==0.27.2) (7.1.0)\n",
            "Requirement already satisfied: filelock in ./.asdf/installs/python/3.9.1/lib/python3.9/site-packages (from diffusers==0.27.2->diffusers[training]==0.27.2) (3.14.0)\n",
            "Requirement already satisfied: regex!=2019.12.17 in ./.asdf/installs/python/3.9.1/lib/python3.9/site-packages (from diffusers==0.27.2->diffusers[training]==0.27.2) (2024.5.15)\n",
            "Requirement already satisfied: requests in ./.asdf/installs/python/3.9.1/lib/python3.9/site-packages (from diffusers==0.27.2->diffusers[training]==0.27.2) (2.32.2)\n",
            "Requirement already satisfied: safetensors>=0.3.1 in ./.asdf/installs/python/3.9.1/lib/python3.9/site-packages (from diffusers==0.27.2->diffusers[training]==0.27.2) (0.4.3)\n",
            "Requirement already satisfied: Pillow in ./.asdf/installs/python/3.9.1/lib/python3.9/site-packages (from diffusers==0.27.2->diffusers[training]==0.27.2) (10.3.0)\n",
            "Requirement already satisfied: packaging>=20.0 in ./.asdf/installs/python/3.9.1/lib/python3.9/site-packages (from transformers==4.41.1) (24.0)\n",
            "Requirement already satisfied: pyyaml>=5.1 in ./.asdf/installs/python/3.9.1/lib/python3.9/site-packages (from transformers==4.41.1) (6.0.1)\n",
            "Requirement already satisfied: tokenizers<0.20,>=0.19 in ./.asdf/installs/python/3.9.1/lib/python3.9/site-packages (from transformers==4.41.1) (0.19.1)\n",
            "Requirement already satisfied: tqdm>=4.27 in ./.asdf/installs/python/3.9.1/lib/python3.9/site-packages (from transformers==4.41.1) (4.66.4)\n",
            "Requirement already satisfied: fsspec>=2023.5.0 in ./.asdf/installs/python/3.9.1/lib/python3.9/site-packages (from huggingface-hub==0.23.1) (2024.3.1)\n",
            "Requirement already satisfied: typing-extensions>=3.7.4.3 in ./.asdf/installs/python/3.9.1/lib/python3.9/site-packages (from huggingface-hub==0.23.1) (4.12.0)\n",
            "Requirement already satisfied: ipykernel>=4.5.1 in ./.asdf/installs/python/3.9.1/lib/python3.9/site-packages (from ipywidgets==7.7.1) (6.29.4)\n",
            "Requirement already satisfied: ipython-genutils~=0.2.0 in ./.asdf/installs/python/3.9.1/lib/python3.9/site-packages (from ipywidgets==7.7.1) (0.2.0)\n",
            "Requirement already satisfied: traitlets>=4.3.1 in ./.asdf/installs/python/3.9.1/lib/python3.9/site-packages (from ipywidgets==7.7.1) (5.14.3)\n",
            "Requirement already satisfied: widgetsnbextension~=3.6.0 in ./.asdf/installs/python/3.9.1/lib/python3.9/site-packages (from ipywidgets==7.7.1) (3.6.6)\n",
            "Requirement already satisfied: ipython>=4.0.0 in ./.asdf/installs/python/3.9.1/lib/python3.9/site-packages (from ipywidgets==7.7.1) (8.18.1)\n",
            "Requirement already satisfied: jupyterlab-widgets>=1.0.0 in ./.asdf/installs/python/3.9.1/lib/python3.9/site-packages (from ipywidgets==7.7.1) (3.0.11)\n",
            "Requirement already satisfied: contourpy>=1.0.1 in ./.asdf/installs/python/3.9.1/lib/python3.9/site-packages (from matplotlib==3.9.0) (1.2.1)\n",
            "Requirement already satisfied: cycler>=0.10 in ./.asdf/installs/python/3.9.1/lib/python3.9/site-packages (from matplotlib==3.9.0) (0.12.1)\n",
            "Requirement already satisfied: fonttools>=4.22.0 in ./.asdf/installs/python/3.9.1/lib/python3.9/site-packages (from matplotlib==3.9.0) (4.53.0)\n",
            "Requirement already satisfied: kiwisolver>=1.3.1 in ./.asdf/installs/python/3.9.1/lib/python3.9/site-packages (from matplotlib==3.9.0) (1.4.5)\n",
            "Requirement already satisfied: pyparsing>=2.3.1 in ./.asdf/installs/python/3.9.1/lib/python3.9/site-packages (from matplotlib==3.9.0) (3.1.2)\n",
            "Requirement already satisfied: python-dateutil>=2.7 in ./.asdf/installs/python/3.9.1/lib/python3.9/site-packages (from matplotlib==3.9.0) (2.9.0.post0)\n",
            "Requirement already satisfied: importlib-resources>=3.2.0 in ./.asdf/installs/python/3.9.1/lib/python3.9/site-packages (from matplotlib==3.9.0) (6.4.0)\n",
            "Requirement already satisfied: torch==2.3.0 in ./.asdf/installs/python/3.9.1/lib/python3.9/site-packages (from torchvision==0.18.0) (2.3.0)\n",
            "Requirement already satisfied: accelerate>=0.11.0 in ./.asdf/installs/python/3.9.1/lib/python3.9/site-packages (from diffusers[training]==0.27.2) (0.30.1)\n",
            "Requirement already satisfied: datasets in ./.asdf/installs/python/3.9.1/lib/python3.9/site-packages (from diffusers[training]==0.27.2) (2.19.1)\n",
            "Requirement already satisfied: protobuf<4,>=3.20.3 in ./.asdf/installs/python/3.9.1/lib/python3.9/site-packages (from diffusers[training]==0.27.2) (3.20.3)\n",
            "Requirement already satisfied: tensorboard in ./.asdf/installs/python/3.9.1/lib/python3.9/site-packages (from diffusers[training]==0.27.2) (2.16.2)\n",
            "Requirement already satisfied: Jinja2 in ./.local/lib/python3.9/site-packages (from diffusers[training]==0.27.2) (3.1.4)\n",
            "Requirement already satisfied: peft>=0.6.0 in ./.asdf/installs/python/3.9.1/lib/python3.9/site-packages (from diffusers[training]==0.27.2) (0.11.1)\n",
            "Requirement already satisfied: sympy in ./.asdf/installs/python/3.9.1/lib/python3.9/site-packages (from torch==2.3.0->torchvision==0.18.0) (1.12)\n",
            "Requirement already satisfied: networkx in ./.asdf/installs/python/3.9.1/lib/python3.9/site-packages (from torch==2.3.0->torchvision==0.18.0) (3.2.1)\n",
            "Requirement already satisfied: nvidia-cuda-nvrtc-cu12==12.1.105 in ./.asdf/installs/python/3.9.1/lib/python3.9/site-packages (from torch==2.3.0->torchvision==0.18.0) (12.1.105)\n",
            "Requirement already satisfied: nvidia-cuda-runtime-cu12==12.1.105 in ./.asdf/installs/python/3.9.1/lib/python3.9/site-packages (from torch==2.3.0->torchvision==0.18.0) (12.1.105)\n",
            "Requirement already satisfied: nvidia-cuda-cupti-cu12==12.1.105 in ./.asdf/installs/python/3.9.1/lib/python3.9/site-packages (from torch==2.3.0->torchvision==0.18.0) (12.1.105)\n",
            "Requirement already satisfied: nvidia-cudnn-cu12==8.9.2.26 in ./.asdf/installs/python/3.9.1/lib/python3.9/site-packages (from torch==2.3.0->torchvision==0.18.0) (8.9.2.26)\n",
            "Requirement already satisfied: nvidia-cublas-cu12==12.1.3.1 in ./.asdf/installs/python/3.9.1/lib/python3.9/site-packages (from torch==2.3.0->torchvision==0.18.0) (12.1.3.1)\n",
            "Requirement already satisfied: nvidia-cufft-cu12==11.0.2.54 in ./.asdf/installs/python/3.9.1/lib/python3.9/site-packages (from torch==2.3.0->torchvision==0.18.0) (11.0.2.54)\n",
            "Requirement already satisfied: nvidia-curand-cu12==10.3.2.106 in ./.asdf/installs/python/3.9.1/lib/python3.9/site-packages (from torch==2.3.0->torchvision==0.18.0) (10.3.2.106)\n",
            "Requirement already satisfied: nvidia-cusolver-cu12==11.4.5.107 in ./.asdf/installs/python/3.9.1/lib/python3.9/site-packages (from torch==2.3.0->torchvision==0.18.0) (11.4.5.107)\n",
            "Requirement already satisfied: nvidia-cusparse-cu12==12.1.0.106 in ./.asdf/installs/python/3.9.1/lib/python3.9/site-packages (from torch==2.3.0->torchvision==0.18.0) (12.1.0.106)\n",
            "Requirement already satisfied: nvidia-nccl-cu12==2.20.5 in ./.asdf/installs/python/3.9.1/lib/python3.9/site-packages (from torch==2.3.0->torchvision==0.18.0) (2.20.5)\n",
            "Requirement already satisfied: nvidia-nvtx-cu12==12.1.105 in ./.asdf/installs/python/3.9.1/lib/python3.9/site-packages (from torch==2.3.0->torchvision==0.18.0) (12.1.105)\n",
            "Requirement already satisfied: triton==2.3.0 in ./.asdf/installs/python/3.9.1/lib/python3.9/site-packages (from torch==2.3.0->torchvision==0.18.0) (2.3.0)\n",
            "Requirement already satisfied: nvidia-nvjitlink-cu12 in ./.asdf/installs/python/3.9.1/lib/python3.9/site-packages (from nvidia-cusolver-cu12==11.4.5.107->torch==2.3.0->torchvision==0.18.0) (12.5.40)\n",
            "Requirement already satisfied: pytz>=2020.1 in ./.asdf/installs/python/3.9.1/lib/python3.9/site-packages (from pandas) (2024.1)\n",
            "Requirement already satisfied: tzdata>=2022.7 in ./.asdf/installs/python/3.9.1/lib/python3.9/site-packages (from pandas) (2024.1)\n",
            "Requirement already satisfied: psutil in ./.asdf/installs/python/3.9.1/lib/python3.9/site-packages (from accelerate>=0.11.0->diffusers[training]==0.27.2) (5.9.8)\n",
            "Requirement already satisfied: zipp>=3.1.0 in ./.asdf/installs/python/3.9.1/lib/python3.9/site-packages (from importlib-resources>=3.2.0->matplotlib==3.9.0) (3.18.2)\n",
            "Requirement already satisfied: comm>=0.1.1 in ./.asdf/installs/python/3.9.1/lib/python3.9/site-packages (from ipykernel>=4.5.1->ipywidgets==7.7.1) (0.2.2)\n",
            "Requirement already satisfied: debugpy>=1.6.5 in ./.asdf/installs/python/3.9.1/lib/python3.9/site-packages (from ipykernel>=4.5.1->ipywidgets==7.7.1) (1.8.1)\n",
            "Requirement already satisfied: jupyter-client>=6.1.12 in ./.asdf/installs/python/3.9.1/lib/python3.9/site-packages (from ipykernel>=4.5.1->ipywidgets==7.7.1) (8.6.2)\n",
            "Requirement already satisfied: jupyter-core!=5.0.*,>=4.12 in ./.asdf/installs/python/3.9.1/lib/python3.9/site-packages (from ipykernel>=4.5.1->ipywidgets==7.7.1) (5.7.2)\n",
            "Requirement already satisfied: matplotlib-inline>=0.1 in ./.asdf/installs/python/3.9.1/lib/python3.9/site-packages (from ipykernel>=4.5.1->ipywidgets==7.7.1) (0.1.7)\n",
            "Requirement already satisfied: nest-asyncio in ./.asdf/installs/python/3.9.1/lib/python3.9/site-packages (from ipykernel>=4.5.1->ipywidgets==7.7.1) (1.6.0)\n",
            "Requirement already satisfied: pyzmq>=24 in ./.asdf/installs/python/3.9.1/lib/python3.9/site-packages (from ipykernel>=4.5.1->ipywidgets==7.7.1) (26.0.3)\n",
            "Requirement already satisfied: tornado>=6.1 in ./.asdf/installs/python/3.9.1/lib/python3.9/site-packages (from ipykernel>=4.5.1->ipywidgets==7.7.1) (6.4)\n",
            "Requirement already satisfied: decorator in ./.asdf/installs/python/3.9.1/lib/python3.9/site-packages (from ipython>=4.0.0->ipywidgets==7.7.1) (5.1.1)\n",
            "Requirement already satisfied: jedi>=0.16 in ./.asdf/installs/python/3.9.1/lib/python3.9/site-packages (from ipython>=4.0.0->ipywidgets==7.7.1) (0.19.1)\n",
            "Requirement already satisfied: prompt-toolkit<3.1.0,>=3.0.41 in ./.asdf/installs/python/3.9.1/lib/python3.9/site-packages (from ipython>=4.0.0->ipywidgets==7.7.1) (3.0.43)\n",
            "Requirement already satisfied: pygments>=2.4.0 in ./.asdf/installs/python/3.9.1/lib/python3.9/site-packages (from ipython>=4.0.0->ipywidgets==7.7.1) (2.18.0)\n",
            "Requirement already satisfied: stack-data in ./.asdf/installs/python/3.9.1/lib/python3.9/site-packages (from ipython>=4.0.0->ipywidgets==7.7.1) (0.6.3)\n",
            "Requirement already satisfied: exceptiongroup in ./.asdf/installs/python/3.9.1/lib/python3.9/site-packages (from ipython>=4.0.0->ipywidgets==7.7.1) (1.2.1)\n",
            "Requirement already satisfied: pexpect>4.3 in ./.asdf/installs/python/3.9.1/lib/python3.9/site-packages (from ipython>=4.0.0->ipywidgets==7.7.1) (4.9.0)\n",
            "Requirement already satisfied: six>=1.5 in ./.asdf/installs/python/3.9.1/lib/python3.9/site-packages (from python-dateutil>=2.7->matplotlib==3.9.0) (1.16.0)\n",
            "Requirement already satisfied: notebook>=4.4.1 in ./.asdf/installs/python/3.9.1/lib/python3.9/site-packages (from widgetsnbextension~=3.6.0->ipywidgets==7.7.1) (7.2.0)\n",
            "Requirement already satisfied: pyarrow>=12.0.0 in ./.asdf/installs/python/3.9.1/lib/python3.9/site-packages (from datasets->diffusers[training]==0.27.2) (16.1.0)\n",
            "Requirement already satisfied: pyarrow-hotfix in ./.asdf/installs/python/3.9.1/lib/python3.9/site-packages (from datasets->diffusers[training]==0.27.2) (0.6)\n",
            "Requirement already satisfied: dill<0.3.9,>=0.3.0 in ./.asdf/installs/python/3.9.1/lib/python3.9/site-packages (from datasets->diffusers[training]==0.27.2) (0.3.8)\n",
            "Requirement already satisfied: xxhash in ./.asdf/installs/python/3.9.1/lib/python3.9/site-packages (from datasets->diffusers[training]==0.27.2) (3.4.1)\n",
            "Requirement already satisfied: multiprocess in ./.asdf/installs/python/3.9.1/lib/python3.9/site-packages (from datasets->diffusers[training]==0.27.2) (0.70.16)\n",
            "Requirement already satisfied: aiohttp in ./.asdf/installs/python/3.9.1/lib/python3.9/site-packages (from datasets->diffusers[training]==0.27.2) (3.9.5)\n",
            "Requirement already satisfied: charset-normalizer<4,>=2 in ./.asdf/installs/python/3.9.1/lib/python3.9/site-packages (from requests->diffusers==0.27.2->diffusers[training]==0.27.2) (3.3.2)\n",
            "Requirement already satisfied: idna<4,>=2.5 in ./.asdf/installs/python/3.9.1/lib/python3.9/site-packages (from requests->diffusers==0.27.2->diffusers[training]==0.27.2) (3.7)\n",
            "Requirement already satisfied: urllib3<3,>=1.21.1 in ./.asdf/installs/python/3.9.1/lib/python3.9/site-packages (from requests->diffusers==0.27.2->diffusers[training]==0.27.2) (2.2.1)\n",
            "Requirement already satisfied: certifi>=2017.4.17 in ./.asdf/installs/python/3.9.1/lib/python3.9/site-packages (from requests->diffusers==0.27.2->diffusers[training]==0.27.2) (2024.2.2)\n",
            "Requirement already satisfied: MarkupSafe>=2.0 in ./.asdf/installs/python/3.9.1/lib/python3.9/site-packages (from Jinja2->diffusers[training]==0.27.2) (2.1.5)\n",
            "Requirement already satisfied: absl-py>=0.4 in ./.asdf/installs/python/3.9.1/lib/python3.9/site-packages (from tensorboard->diffusers[training]==0.27.2) (2.1.0)\n",
            "Requirement already satisfied: grpcio>=1.48.2 in ./.asdf/installs/python/3.9.1/lib/python3.9/site-packages (from tensorboard->diffusers[training]==0.27.2) (1.64.0)\n",
            "Requirement already satisfied: markdown>=2.6.8 in ./.asdf/installs/python/3.9.1/lib/python3.9/site-packages (from tensorboard->diffusers[training]==0.27.2) (3.6)\n",
            "Requirement already satisfied: setuptools>=41.0.0 in ./.asdf/installs/python/3.9.1/lib/python3.9/site-packages (from tensorboard->diffusers[training]==0.27.2) (70.0.0)\n",
            "Requirement already satisfied: tensorboard-data-server<0.8.0,>=0.7.0 in ./.asdf/installs/python/3.9.1/lib/python3.9/site-packages (from tensorboard->diffusers[training]==0.27.2) (0.7.2)\n",
            "Requirement already satisfied: werkzeug>=1.0.1 in ./.asdf/installs/python/3.9.1/lib/python3.9/site-packages (from tensorboard->diffusers[training]==0.27.2) (3.0.3)\n",
            "Requirement already satisfied: aiosignal>=1.1.2 in ./.asdf/installs/python/3.9.1/lib/python3.9/site-packages (from aiohttp->datasets->diffusers[training]==0.27.2) (1.3.1)\n",
            "Requirement already satisfied: attrs>=17.3.0 in ./.local/lib/python3.9/site-packages (from aiohttp->datasets->diffusers[training]==0.27.2) (23.2.0)\n",
            "Requirement already satisfied: frozenlist>=1.1.1 in ./.asdf/installs/python/3.9.1/lib/python3.9/site-packages (from aiohttp->datasets->diffusers[training]==0.27.2) (1.4.1)\n",
            "Requirement already satisfied: multidict<7.0,>=4.5 in ./.asdf/installs/python/3.9.1/lib/python3.9/site-packages (from aiohttp->datasets->diffusers[training]==0.27.2) (6.0.5)\n",
            "Requirement already satisfied: yarl<2.0,>=1.0 in ./.asdf/installs/python/3.9.1/lib/python3.9/site-packages (from aiohttp->datasets->diffusers[training]==0.27.2) (1.9.4)\n",
            "Requirement already satisfied: async-timeout<5.0,>=4.0 in ./.asdf/installs/python/3.9.1/lib/python3.9/site-packages (from aiohttp->datasets->diffusers[training]==0.27.2) (4.0.3)\n",
            "Requirement already satisfied: parso<0.9.0,>=0.8.3 in ./.asdf/installs/python/3.9.1/lib/python3.9/site-packages (from jedi>=0.16->ipython>=4.0.0->ipywidgets==7.7.1) (0.8.4)\n",
            "Requirement already satisfied: platformdirs>=2.5 in ./.asdf/installs/python/3.9.1/lib/python3.9/site-packages (from jupyter-core!=5.0.*,>=4.12->ipykernel>=4.5.1->ipywidgets==7.7.1) (4.2.2)\n",
            "Requirement already satisfied: jupyter-server<3,>=2.4.0 in ./.asdf/installs/python/3.9.1/lib/python3.9/site-packages (from notebook>=4.4.1->widgetsnbextension~=3.6.0->ipywidgets==7.7.1) (2.14.0)\n",
            "Requirement already satisfied: jupyterlab-server<3,>=2.27.1 in ./.asdf/installs/python/3.9.1/lib/python3.9/site-packages (from notebook>=4.4.1->widgetsnbextension~=3.6.0->ipywidgets==7.7.1) (2.27.2)\n",
            "Requirement already satisfied: jupyterlab<4.3,>=4.2.0 in ./.asdf/installs/python/3.9.1/lib/python3.9/site-packages (from notebook>=4.4.1->widgetsnbextension~=3.6.0->ipywidgets==7.7.1) (4.2.1)\n",
            "Requirement already satisfied: notebook-shim<0.3,>=0.2 in ./.asdf/installs/python/3.9.1/lib/python3.9/site-packages (from notebook>=4.4.1->widgetsnbextension~=3.6.0->ipywidgets==7.7.1) (0.2.4)\n",
            "Requirement already satisfied: ptyprocess>=0.5 in ./.asdf/installs/python/3.9.1/lib/python3.9/site-packages (from pexpect>4.3->ipython>=4.0.0->ipywidgets==7.7.1) (0.7.0)\n",
            "Requirement already satisfied: wcwidth in ./.asdf/installs/python/3.9.1/lib/python3.9/site-packages (from prompt-toolkit<3.1.0,>=3.0.41->ipython>=4.0.0->ipywidgets==7.7.1) (0.2.13)\n",
            "Requirement already satisfied: executing>=1.2.0 in ./.asdf/installs/python/3.9.1/lib/python3.9/site-packages (from stack-data->ipython>=4.0.0->ipywidgets==7.7.1) (2.0.1)\n",
            "Requirement already satisfied: asttokens>=2.1.0 in ./.asdf/installs/python/3.9.1/lib/python3.9/site-packages (from stack-data->ipython>=4.0.0->ipywidgets==7.7.1) (2.4.1)\n",
            "Requirement already satisfied: pure-eval in ./.asdf/installs/python/3.9.1/lib/python3.9/site-packages (from stack-data->ipython>=4.0.0->ipywidgets==7.7.1) (0.2.2)\n",
            "Requirement already satisfied: mpmath>=0.19 in ./.asdf/installs/python/3.9.1/lib/python3.9/site-packages (from sympy->torch==2.3.0->torchvision==0.18.0) (1.3.0)\n",
            "Requirement already satisfied: anyio>=3.1.0 in ./.asdf/installs/python/3.9.1/lib/python3.9/site-packages (from jupyter-server<3,>=2.4.0->notebook>=4.4.1->widgetsnbextension~=3.6.0->ipywidgets==7.7.1) (4.3.0)\n",
            "Requirement already satisfied: argon2-cffi>=21.1 in ./.asdf/installs/python/3.9.1/lib/python3.9/site-packages (from jupyter-server<3,>=2.4.0->notebook>=4.4.1->widgetsnbextension~=3.6.0->ipywidgets==7.7.1) (23.1.0)\n",
            "Requirement already satisfied: jupyter-events>=0.9.0 in ./.asdf/installs/python/3.9.1/lib/python3.9/site-packages (from jupyter-server<3,>=2.4.0->notebook>=4.4.1->widgetsnbextension~=3.6.0->ipywidgets==7.7.1) (0.10.0)\n",
            "Requirement already satisfied: jupyter-server-terminals>=0.4.4 in ./.asdf/installs/python/3.9.1/lib/python3.9/site-packages (from jupyter-server<3,>=2.4.0->notebook>=4.4.1->widgetsnbextension~=3.6.0->ipywidgets==7.7.1) (0.5.3)\n",
            "Requirement already satisfied: nbconvert>=6.4.4 in ./.asdf/installs/python/3.9.1/lib/python3.9/site-packages (from jupyter-server<3,>=2.4.0->notebook>=4.4.1->widgetsnbextension~=3.6.0->ipywidgets==7.7.1) (7.16.4)\n",
            "Requirement already satisfied: nbformat>=5.3.0 in ./.asdf/installs/python/3.9.1/lib/python3.9/site-packages (from jupyter-server<3,>=2.4.0->notebook>=4.4.1->widgetsnbextension~=3.6.0->ipywidgets==7.7.1) (5.10.4)\n",
            "Requirement already satisfied: overrides>=5.0 in ./.asdf/installs/python/3.9.1/lib/python3.9/site-packages (from jupyter-server<3,>=2.4.0->notebook>=4.4.1->widgetsnbextension~=3.6.0->ipywidgets==7.7.1) (7.7.0)\n",
            "Requirement already satisfied: prometheus-client>=0.9 in ./.asdf/installs/python/3.9.1/lib/python3.9/site-packages (from jupyter-server<3,>=2.4.0->notebook>=4.4.1->widgetsnbextension~=3.6.0->ipywidgets==7.7.1) (0.20.0)\n",
            "Requirement already satisfied: send2trash>=1.8.2 in ./.asdf/installs/python/3.9.1/lib/python3.9/site-packages (from jupyter-server<3,>=2.4.0->notebook>=4.4.1->widgetsnbextension~=3.6.0->ipywidgets==7.7.1) (1.8.3)\n",
            "Requirement already satisfied: terminado>=0.8.3 in ./.asdf/installs/python/3.9.1/lib/python3.9/site-packages (from jupyter-server<3,>=2.4.0->notebook>=4.4.1->widgetsnbextension~=3.6.0->ipywidgets==7.7.1) (0.18.1)\n",
            "Requirement already satisfied: websocket-client>=1.7 in ./.asdf/installs/python/3.9.1/lib/python3.9/site-packages (from jupyter-server<3,>=2.4.0->notebook>=4.4.1->widgetsnbextension~=3.6.0->ipywidgets==7.7.1) (1.8.0)\n",
            "Requirement already satisfied: async-lru>=1.0.0 in ./.asdf/installs/python/3.9.1/lib/python3.9/site-packages (from jupyterlab<4.3,>=4.2.0->notebook>=4.4.1->widgetsnbextension~=3.6.0->ipywidgets==7.7.1) (2.0.4)\n",
            "Requirement already satisfied: httpx>=0.25.0 in ./.asdf/installs/python/3.9.1/lib/python3.9/site-packages (from jupyterlab<4.3,>=4.2.0->notebook>=4.4.1->widgetsnbextension~=3.6.0->ipywidgets==7.7.1) (0.27.0)\n",
            "Requirement already satisfied: jupyter-lsp>=2.0.0 in ./.asdf/installs/python/3.9.1/lib/python3.9/site-packages (from jupyterlab<4.3,>=4.2.0->notebook>=4.4.1->widgetsnbextension~=3.6.0->ipywidgets==7.7.1) (2.2.5)\n",
            "Requirement already satisfied: tomli>=1.2.2 in ./.asdf/installs/python/3.9.1/lib/python3.9/site-packages (from jupyterlab<4.3,>=4.2.0->notebook>=4.4.1->widgetsnbextension~=3.6.0->ipywidgets==7.7.1) (2.0.1)\n",
            "Requirement already satisfied: babel>=2.10 in ./.asdf/installs/python/3.9.1/lib/python3.9/site-packages (from jupyterlab-server<3,>=2.27.1->notebook>=4.4.1->widgetsnbextension~=3.6.0->ipywidgets==7.7.1) (2.15.0)\n",
            "Requirement already satisfied: json5>=0.9.0 in ./.asdf/installs/python/3.9.1/lib/python3.9/site-packages (from jupyterlab-server<3,>=2.27.1->notebook>=4.4.1->widgetsnbextension~=3.6.0->ipywidgets==7.7.1) (0.9.25)\n",
            "Requirement already satisfied: jsonschema>=4.18.0 in ./.local/lib/python3.9/site-packages (from jupyterlab-server<3,>=2.27.1->notebook>=4.4.1->widgetsnbextension~=3.6.0->ipywidgets==7.7.1) (4.22.0)\n",
            "Requirement already satisfied: sniffio>=1.1 in ./.asdf/installs/python/3.9.1/lib/python3.9/site-packages (from anyio>=3.1.0->jupyter-server<3,>=2.4.0->notebook>=4.4.1->widgetsnbextension~=3.6.0->ipywidgets==7.7.1) (1.3.1)\n",
            "Requirement already satisfied: argon2-cffi-bindings in ./.asdf/installs/python/3.9.1/lib/python3.9/site-packages (from argon2-cffi>=21.1->jupyter-server<3,>=2.4.0->notebook>=4.4.1->widgetsnbextension~=3.6.0->ipywidgets==7.7.1) (21.2.0)\n",
            "Requirement already satisfied: httpcore==1.* in ./.asdf/installs/python/3.9.1/lib/python3.9/site-packages (from httpx>=0.25.0->jupyterlab<4.3,>=4.2.0->notebook>=4.4.1->widgetsnbextension~=3.6.0->ipywidgets==7.7.1) (1.0.5)\n",
            "Requirement already satisfied: h11<0.15,>=0.13 in ./.asdf/installs/python/3.9.1/lib/python3.9/site-packages (from httpcore==1.*->httpx>=0.25.0->jupyterlab<4.3,>=4.2.0->notebook>=4.4.1->widgetsnbextension~=3.6.0->ipywidgets==7.7.1) (0.14.0)\n",
            "Requirement already satisfied: jsonschema-specifications>=2023.03.6 in ./.local/lib/python3.9/site-packages (from jsonschema>=4.18.0->jupyterlab-server<3,>=2.27.1->notebook>=4.4.1->widgetsnbextension~=3.6.0->ipywidgets==7.7.1) (2023.12.1)\n",
            "Requirement already satisfied: referencing>=0.28.4 in ./.local/lib/python3.9/site-packages (from jsonschema>=4.18.0->jupyterlab-server<3,>=2.27.1->notebook>=4.4.1->widgetsnbextension~=3.6.0->ipywidgets==7.7.1) (0.35.1)\n",
            "Requirement already satisfied: rpds-py>=0.7.1 in ./.local/lib/python3.9/site-packages (from jsonschema>=4.18.0->jupyterlab-server<3,>=2.27.1->notebook>=4.4.1->widgetsnbextension~=3.6.0->ipywidgets==7.7.1) (0.18.1)\n",
            "Requirement already satisfied: python-json-logger>=2.0.4 in ./.asdf/installs/python/3.9.1/lib/python3.9/site-packages (from jupyter-events>=0.9.0->jupyter-server<3,>=2.4.0->notebook>=4.4.1->widgetsnbextension~=3.6.0->ipywidgets==7.7.1) (2.0.7)\n",
            "Requirement already satisfied: rfc3339-validator in ./.asdf/installs/python/3.9.1/lib/python3.9/site-packages (from jupyter-events>=0.9.0->jupyter-server<3,>=2.4.0->notebook>=4.4.1->widgetsnbextension~=3.6.0->ipywidgets==7.7.1) (0.1.4)\n",
            "Requirement already satisfied: rfc3986-validator>=0.1.1 in ./.asdf/installs/python/3.9.1/lib/python3.9/site-packages (from jupyter-events>=0.9.0->jupyter-server<3,>=2.4.0->notebook>=4.4.1->widgetsnbextension~=3.6.0->ipywidgets==7.7.1) (0.1.1)\n",
            "Requirement already satisfied: beautifulsoup4 in ./.asdf/installs/python/3.9.1/lib/python3.9/site-packages (from nbconvert>=6.4.4->jupyter-server<3,>=2.4.0->notebook>=4.4.1->widgetsnbextension~=3.6.0->ipywidgets==7.7.1) (4.12.3)\n",
            "Requirement already satisfied: bleach!=5.0.0 in ./.asdf/installs/python/3.9.1/lib/python3.9/site-packages (from nbconvert>=6.4.4->jupyter-server<3,>=2.4.0->notebook>=4.4.1->widgetsnbextension~=3.6.0->ipywidgets==7.7.1) (6.1.0)\n",
            "Requirement already satisfied: defusedxml in ./.asdf/installs/python/3.9.1/lib/python3.9/site-packages (from nbconvert>=6.4.4->jupyter-server<3,>=2.4.0->notebook>=4.4.1->widgetsnbextension~=3.6.0->ipywidgets==7.7.1) (0.7.1)\n",
            "Requirement already satisfied: jupyterlab-pygments in ./.asdf/installs/python/3.9.1/lib/python3.9/site-packages (from nbconvert>=6.4.4->jupyter-server<3,>=2.4.0->notebook>=4.4.1->widgetsnbextension~=3.6.0->ipywidgets==7.7.1) (0.3.0)\n",
            "Requirement already satisfied: mistune<4,>=2.0.3 in ./.asdf/installs/python/3.9.1/lib/python3.9/site-packages (from nbconvert>=6.4.4->jupyter-server<3,>=2.4.0->notebook>=4.4.1->widgetsnbextension~=3.6.0->ipywidgets==7.7.1) (3.0.2)\n",
            "Requirement already satisfied: nbclient>=0.5.0 in ./.asdf/installs/python/3.9.1/lib/python3.9/site-packages (from nbconvert>=6.4.4->jupyter-server<3,>=2.4.0->notebook>=4.4.1->widgetsnbextension~=3.6.0->ipywidgets==7.7.1) (0.10.0)\n",
            "Requirement already satisfied: pandocfilters>=1.4.1 in ./.asdf/installs/python/3.9.1/lib/python3.9/site-packages (from nbconvert>=6.4.4->jupyter-server<3,>=2.4.0->notebook>=4.4.1->widgetsnbextension~=3.6.0->ipywidgets==7.7.1) (1.5.1)\n",
            "Requirement already satisfied: tinycss2 in ./.asdf/installs/python/3.9.1/lib/python3.9/site-packages (from nbconvert>=6.4.4->jupyter-server<3,>=2.4.0->notebook>=4.4.1->widgetsnbextension~=3.6.0->ipywidgets==7.7.1) (1.3.0)\n",
            "Requirement already satisfied: fastjsonschema>=2.15 in ./.asdf/installs/python/3.9.1/lib/python3.9/site-packages (from nbformat>=5.3.0->jupyter-server<3,>=2.4.0->notebook>=4.4.1->widgetsnbextension~=3.6.0->ipywidgets==7.7.1) (2.19.1)\n",
            "Requirement already satisfied: webencodings in ./.asdf/installs/python/3.9.1/lib/python3.9/site-packages (from bleach!=5.0.0->nbconvert>=6.4.4->jupyter-server<3,>=2.4.0->notebook>=4.4.1->widgetsnbextension~=3.6.0->ipywidgets==7.7.1) (0.5.1)\n",
            "Requirement already satisfied: fqdn in ./.asdf/installs/python/3.9.1/lib/python3.9/site-packages (from jsonschema[format-nongpl]>=4.18.0->jupyter-events>=0.9.0->jupyter-server<3,>=2.4.0->notebook>=4.4.1->widgetsnbextension~=3.6.0->ipywidgets==7.7.1) (1.5.1)\n",
            "Requirement already satisfied: isoduration in ./.asdf/installs/python/3.9.1/lib/python3.9/site-packages (from jsonschema[format-nongpl]>=4.18.0->jupyter-events>=0.9.0->jupyter-server<3,>=2.4.0->notebook>=4.4.1->widgetsnbextension~=3.6.0->ipywidgets==7.7.1) (20.11.0)\n",
            "Requirement already satisfied: jsonpointer>1.13 in ./.asdf/installs/python/3.9.1/lib/python3.9/site-packages (from jsonschema[format-nongpl]>=4.18.0->jupyter-events>=0.9.0->jupyter-server<3,>=2.4.0->notebook>=4.4.1->widgetsnbextension~=3.6.0->ipywidgets==7.7.1) (2.4)\n",
            "Requirement already satisfied: uri-template in ./.asdf/installs/python/3.9.1/lib/python3.9/site-packages (from jsonschema[format-nongpl]>=4.18.0->jupyter-events>=0.9.0->jupyter-server<3,>=2.4.0->notebook>=4.4.1->widgetsnbextension~=3.6.0->ipywidgets==7.7.1) (1.3.0)\n",
            "Requirement already satisfied: webcolors>=1.11 in ./.asdf/installs/python/3.9.1/lib/python3.9/site-packages (from jsonschema[format-nongpl]>=4.18.0->jupyter-events>=0.9.0->jupyter-server<3,>=2.4.0->notebook>=4.4.1->widgetsnbextension~=3.6.0->ipywidgets==7.7.1) (1.13)\n",
            "Requirement already satisfied: cffi>=1.0.1 in ./.local/lib/python3.9/site-packages (from argon2-cffi-bindings->argon2-cffi>=21.1->jupyter-server<3,>=2.4.0->notebook>=4.4.1->widgetsnbextension~=3.6.0->ipywidgets==7.7.1) (1.16.0)\n",
            "Requirement already satisfied: soupsieve>1.2 in ./.asdf/installs/python/3.9.1/lib/python3.9/site-packages (from beautifulsoup4->nbconvert>=6.4.4->jupyter-server<3,>=2.4.0->notebook>=4.4.1->widgetsnbextension~=3.6.0->ipywidgets==7.7.1) (2.5)\n",
            "Requirement already satisfied: pycparser in ./.local/lib/python3.9/site-packages (from cffi>=1.0.1->argon2-cffi-bindings->argon2-cffi>=21.1->jupyter-server<3,>=2.4.0->notebook>=4.4.1->widgetsnbextension~=3.6.0->ipywidgets==7.7.1) (2.22)\n",
            "Requirement already satisfied: arrow>=0.15.0 in ./.asdf/installs/python/3.9.1/lib/python3.9/site-packages (from isoduration->jsonschema[format-nongpl]>=4.18.0->jupyter-events>=0.9.0->jupyter-server<3,>=2.4.0->notebook>=4.4.1->widgetsnbextension~=3.6.0->ipywidgets==7.7.1) (1.3.0)\n",
            "Requirement already satisfied: types-python-dateutil>=2.8.10 in ./.asdf/installs/python/3.9.1/lib/python3.9/site-packages (from arrow>=0.15.0->isoduration->jsonschema[format-nongpl]>=4.18.0->jupyter-events>=0.9.0->jupyter-server<3,>=2.4.0->notebook>=4.4.1->widgetsnbextension~=3.6.0->ipywidgets==7.7.1) (2.9.0.20240316)\n",
            "Reshimming asdf python...\n"
          ]
        }
      ],
      "source": [
        "# uncomment to install the necessary libraries in Colab\n",
        "!pip install --break-system-packages numpy pandas diffusers[training]==0.27.2 transformers==4.41.1 huggingface==0.0.1 huggingface-hub==0.23.1 ipywidgets==7.7.1 matplotlib==3.9.0 torchvision==0.18.0"
      ]
    },
    {
      "cell_type": "markdown",
      "metadata": {
        "id": "z6bOeXE_6KP-"
      },
      "source": [
        "## Login"
      ]
    },
    {
      "cell_type": "code",
      "execution_count": null,
      "metadata": {
        "colab": {
          "base_uri": "https://localhost:8080/"
        },
        "id": "uFYvUQb-6JKb",
        "outputId": "9b54e33e-522a-42a9-fd7f-1ec8d6a5f22c"
      },
      "outputs": [
        {
          "output_type": "stream",
          "name": "stdout",
          "text": [
            "Token is valid (permission: write).\n",
            "Your token has been saved in your configured git credential helpers (store).\n",
            "Your token has been saved to /home/randomgamingdev/.cache/huggingface/token\n",
            "Login successful\n"
          ]
        }
      ],
      "source": [
        "import huggingface_hub\n",
        "\n",
        "!git config --global credential.helper store\n",
        "token = \"\" #@param {type:\"string\"}\n",
        "huggingface_hub.login(token=token, add_to_git_credential=True)"
      ]
    },
    {
      "cell_type": "markdown",
      "metadata": {
        "id": "WRZrNqPYYUvq"
      },
      "source": [
        "\n",
        "## Training Configuration\n"
      ]
    },
    {
      "cell_type": "code",
      "execution_count": null,
      "metadata": {
        "id": "2T_TLfNAYUvr"
      },
      "outputs": [],
      "source": [
        "import torch\n",
        "from dataclasses import dataclass\n",
        "\n",
        "torch.set_default_device('cuda')\n",
        "#torch.set_default_device('cpu')\n",
        "device = torch.device(\"cuda\")\n",
        "#device = torch.device(\"cpu\")\n",
        "\n",
        "# arbitrary limit for each build dimension is 127\n",
        "# over 95% of dimensions have dimensions less than 64%\n",
        "\n",
        "@dataclass\n",
        "class TrainingConfig:\n",
        "    image_size = 64 # generated image res\n",
        "    train_batch_size = 16 # was 16\n",
        "    eval_batch_size = 16 # how many images to sample during evaluation (was 16)\n",
        "    num_epochs = 200 # was 50\n",
        "    gradient_accumulation_steps = 1\n",
        "    learning_rate = 1e-4\n",
        "    lr_warmup_steps = 4\n",
        "    save_image_epochs = 1 # was 10\n",
        "    save_model_epochs = 1 # was 30\n",
        "    mixed_precision = \"fp16\"  # `no` for float32, `fp16` for automatic mixed precision\n",
        "    output_dir = \"mcbuildgen\"  # the model name locally and on the HF Hub\n",
        "\n",
        "    push_to_hub = True  # whether to upload the saved model to the HF Hub\n",
        "    hub_private_repo = True  # whether the model repo is private in the HF Hub\n",
        "    overwrite_output_dir = True  # overwrite the old model when re-running the notebook\n",
        "    seed = 0\n",
        "\n",
        "\n",
        "config = TrainingConfig()"
      ]
    },
    {
      "cell_type": "markdown",
      "metadata": {
        "id": "W8Lixo0pYUvs"
      },
      "source": [
        "## Load the dataset"
      ]
    },
    {
      "cell_type": "code",
      "execution_count": null,
      "metadata": {
        "colab": {
          "base_uri": "https://localhost:8080/",
          "height": 120
        },
        "id": "f0v4klrYYUvt",
        "outputId": "e26a85ce-b5ed-45d3-a47d-0bd83b6cc046"
      },
      "outputs": [
        {
          "output_type": "stream",
          "name": "stderr",
          "text": [
            "/tmp/ipykernel_902442/1079141600.py:34: UserWarning: FigureCanvasAgg is non-interactive, and thus cannot be shown\n",
            "  fig.show()\n"
          ]
        },
        {
          "output_type": "display_data",
          "data": {
            "text/plain": [
              "<Figure size 1600x400 with 4 Axes>"
            ],
            "image/png": "[encoded data removed]"
          },
          "metadata": {}
        }
      ],
      "source": [
        "import matplotlib.pyplot as plt\n",
        "import datasets\n",
        "from datasets import load_dataset, Features, Value\n",
        "from PIL import Image\n",
        "\n",
        "running_locally = True #@param {type:\"boolean\"}\n",
        "local_dataset = \"/home/randomgamingdev/Datasets/grabcraft-builds-png-slices-imgfolder\" #@param {type:\"string\"}\n",
        "remote_dataset = \"/content/drive/MyDrive/Datasets/grabcraft-builds-png-slices-imgfolder\" #@param {type:\"string\"}\n",
        "\n",
        "config.dataset_name = local_dataset if running_locally else remote_dataset\n",
        "if not running_locally:\n",
        "  from google.colab import drive\n",
        "  drive.mount(\"/content/drive\")\n",
        "\n",
        "features = Features({\n",
        "    \"file_name\": Value('string'),\n",
        "    \"category\": Value('string'),\n",
        "    \"group\": Value('string'),\n",
        "    \"name\": Value('string'),\n",
        "    \"dimensions\": Value('string'),\n",
        "    \"tags\": Value('string'),\n",
        "})\n",
        "\n",
        "dataset = load_dataset(config.dataset_name, delimiter=',', split=\"train\", data_files={\"train\": \"metadata.csv\"}, column_names=[\"file_name\", \"category\", \"group\", \"name\", \"dimensions\", \"tags\"], features=features)\n",
        "def load_images(example):\n",
        "    example[\"image\"] = Image.open(f\"{ config.dataset_name }/{ example['file_name'] }\")\n",
        "    return example\n",
        "dataset = dataset.map(load_images)\n",
        "\n",
        "fig, axs = plt.subplots(1, 4, figsize=(16, 4))\n",
        "for i, image in enumerate(dataset[:4][\"image\"]):\n",
        "    axs[i].imshow(image)\n",
        "    axs[i].set_axis_off()\n",
        "fig.show()"
      ]
    },
    {
      "cell_type": "markdown",
      "source": [
        "## Load the Text and Tokenizer Models\n",
        "\n"
      ],
      "metadata": {
        "id": "dkxnnpe5gTY1"
      }
    },
    {
      "cell_type": "code",
      "source": [
        "from transformers import CLIPTextModel, CLIPTokenizer\n",
        "\n",
        "# Load tokenizer and text encoder\n",
        "tokenizer = CLIPTokenizer.from_pretrained(\"openai/clip-vit-base-patch32\")\n",
        "text_encoder = CLIPTextModel.from_pretrained(\"openai/clip-vit-base-patch32\")"
      ],
      "metadata": {
        "id": "DzX9C29MgQt8"
      },
      "execution_count": null,
      "outputs": []
    },
    {
      "cell_type": "markdown",
      "metadata": {
        "id": "YzcofoScYUvt"
      },
      "source": [
        "# Build transformations:"
      ]
    },
    {
      "cell_type": "code",
      "execution_count": null,
      "metadata": {
        "id": "Oz2labqVYUvt"
      },
      "outputs": [],
      "source": [
        "import torch\n",
        "from typing import Tuple, List\n",
        "from torchvision.transforms import v2 as transforms, InterpolationMode\n",
        "import torch.nn.functional as F\n",
        "\n",
        "# Only the PIL image is passed in as of this moment\n",
        "preprocess_to_tensor = transforms.Compose([\n",
        "  #transforms.RandomHorizontalFlip(), # We don't care about any axis flips other than y\n",
        "  transforms.RandomVerticalFlip(),\n",
        "  transforms.ToImage(),\n",
        "  transforms.ToDtype(torch.float32, scale=True),\n",
        "  transforms.Normalize([0.5], [0.5]), # Normalizes the colors for the neural net's consumption\n",
        "])\n",
        "\n",
        "# Convert the tag list from a string to a list\n",
        "def tag_str_to_list(tag_str):\n",
        "    tag_list = tag_str.split(\"', '\")\n",
        "    tag_list[0] = tag_list[0][2:]\n",
        "    tag_list[-1] = tag_list[-1][:-2]\n",
        "\n",
        "    tag_list = tuple(tag_list)\n",
        "    return tag_list\n",
        "\n",
        "# Convert the dimensions to a tuple\n",
        "def dims_str_to_tuple(dims_str):\n",
        "  dims_list = dims_str.split(\", \")\n",
        "  dims_list[0] = dims_list[0][1:]\n",
        "  dims_list[-1] = dims_list[-1][:-1]\n",
        "\n",
        "  dims_list = tuple(int(s) for s in dims_list)\n",
        "  return dims_list\n",
        "\n",
        "def transform(item): # works for querying multiple\n",
        "    # Pass in all the attributes (explicitly mention what we want and ignore the rest)\n",
        "    transformed = {\n",
        "        \"images\": [None for i in range(len(item[\"image\"]))],\n",
        "        \"prompt\": [f\"{ item['category'][i] }, { item['group'][i] }, ({ item['dimensions'][i][1:-1] }), { item['name'][i] }, { item['tags'][i] }\" for i in range(len(item[\"image\"]))],\n",
        "        #\"category\": item[\"category\"],\n",
        "        #\"group\": item[\"group\"],\n",
        "        #\"name\": item[\"name\"],\n",
        "        \"dimensions\": [dims_str_to_tuple(s) for s in item[\"dimensions\"]],\n",
        "        #\"tags\": [tag_str_to_list(s) for s in item[\"tags\"]]\n",
        "    }\n",
        "\n",
        "    # Reshape to 3D\n",
        "    for i in range(len(transformed[\"images\"])):\n",
        "      # For non-uniform\n",
        "      dims_3d = dims_str_to_tuple(item[\"dimensions\"][i])\n",
        "      new_dims = dims_3d[1:2] + (4,) + dims_3d[0:1] + dims_3d[2:3]\n",
        "\n",
        "      # Actual transformation\n",
        "      transformed[\"images\"][i] = preprocess_to_tensor(item[\"image\"][i]).reshape((4,) + dims_3d).permute(2, 0, 1, 3)\n",
        "      unpadded_shape = transformed[\"images\"][i].shape\n",
        "\n",
        "      # Resize\n",
        "      transformed[\"images\"][i] = F.interpolate(transformed[\"images\"][i], size=(config.image_size, config.image_size), mode='nearest')\n",
        "\n",
        "      # Pad with Zeroes\n",
        "      padded_img = F.pad(input=transformed[\"images\"][i], pad=(0, 0, 0, 0, 0, 0, 0, config.image_size - unpadded_shape[-4]), mode='constant', value=0)\n",
        "      transformed[\"images\"][i] = padded_img\n",
        "\n",
        "    #print(transformed[\"prompt\"])\n",
        "    #print(item)\n",
        "\n",
        "    return transformed\n",
        "\n",
        "# Show image before transformation\n",
        "#dataset[0][\"image\"].show()\n",
        "\n",
        "# Set the transformation\n",
        "dataset.set_transform(transform)\n",
        "\n",
        "# Show a transformed layer\n",
        "#transforms.ToPILImage()(dataset[0][\"images\"][0]).show()\n",
        "\n",
        "for i in range(len(dataset)):\n",
        "  size = dataset[i][\"images\"].shape\n",
        "  if size != torch.Size([64, 4, 64, 64]):\n",
        "    print(f\"Invalid size of { size } detected!\")\n",
        "  #print(dataset[i][\"prompt\"])\n",
        "  #transforms.ToPILImage()(dataset[0][\"images\"][2]).show()\n",
        "  break\n",
        "\n",
        "#def collate(batch):\n",
        "  #print(len(batch))\n",
        "  # Assuming each element in batch is a 3D tensor\n",
        "  #return batch#torch.stack(batch, dim=0)\n",
        "\n",
        "def collate(data: List[Tuple[torch.Tensor, torch.Tensor]]):\n",
        "  #tensors, targets = zip(*data)\n",
        "  #features = pad_sequence(tensors, batch_first=True)\n",
        "  #targets = torch.stack(targets)\n",
        "  return data\n",
        "\n",
        "# Check for proper loading\n",
        "train_dataloader = torch.utils.data.DataLoader(dataset, batch_size=config.train_batch_size, generator=torch.Generator(device='cuda'), shuffle=False)#, collate_fn=collate)\n",
        "\n",
        "for i, sample in enumerate(train_dataloader):\n",
        "  size = sample[\"images\"].shape\n",
        "  if size != torch.Size([config.train_batch_size, 64, 4, 64, 64]):\n",
        "    print(f\"Atypical size of { size } detected!\")\n",
        "  #transforms.ToPILImage()(sample[\"images\"][0][2]).show()\n",
        "  break"
      ]
    },
    {
      "cell_type": "markdown",
      "metadata": {
        "id": "5Jmbovi6YUvu"
      },
      "source": [
        "## Create a UNet3DConditionModel"
      ]
    },
    {
      "cell_type": "code",
      "execution_count": null,
      "metadata": {
        "id": "948cvDLeYUvu",
        "colab": {
          "base_uri": "https://localhost:8080/"
        },
        "outputId": "d7ee1d98-3ce1-49db-ae8d-e4a13efb81cd"
      },
      "outputs": [
        {
          "output_type": "stream",
          "name": "stderr",
          "text": [
            "/home/randomgamingdev/.asdf/installs/python/3.9.1/lib/python3.9/site-packages/huggingface_hub/utils/_deprecation.py:131: FutureWarning: 'Repository' (from 'huggingface_hub.repository') is deprecated and will be removed from version '1.0'. Please prefer the http-based alternatives instead. Given its large adoption in legacy code, the complete removal is only planned on next major release.\n",
            "For more details, please read https://huggingface.co/docs/huggingface_hub/concepts/git_vs_http.\n",
            "  warnings.warn(warning_message, FutureWarning)\n",
            "/home/randomgamingdev/mcbuildgen is already a clone of https://huggingface.co/RandomGamingDev/mcbuildgen. Make sure you pull the latest changes with `repo.git_pull()`.\n"
          ]
        }
      ],
      "source": [
        "import os\n",
        "\n",
        "#from diffusers import UNet2DConditionModel\n",
        "#\n",
        "#model = UNet2DConditionModel(\n",
        "#    sample_size=config.image_size, # the target image resolution (64)\n",
        "#    in_channels=4,  # the number of input channels, 4 for RGBA images\n",
        "#    out_channels=4,  # the number of output channels\n",
        "#    layers_per_block=2,  # how many ResNet layers to use per UNet block\n",
        "#    block_out_channels=(128, 128, 256, 256, 512, 512),  # the number of output channels for each UNet block\n",
        "#    down_block_types=(\n",
        "#        \"DownBlock2D\",\n",
        "#        \"DownBlock2D\",\n",
        "#        \"DownBlock2D\",\n",
        "#        \"DownBlock2D\",\n",
        "#        \"AttnDownBlock2D\",\n",
        "#        \"DownBlock2D\",\n",
        "#    ),\n",
        "#    up_block_types=(\n",
        "#        \"UpBlock2D\",\n",
        "#        \"AttnUpBlock2D\",\n",
        "#        \"UpBlock2D\",\n",
        "#        \"UpBlock2D\",\n",
        "#        \"UpBlock2D\",\n",
        "#        \"UpBlock2D\",\n",
        "#    ),\n",
        "#    encoder_hid_dim=512\n",
        "#)\n",
        "#print(model.device)\n",
        "\n",
        "from diffusers import UNet2DConditionModel\n",
        "from huggingface_hub import HfFolder, Repository, whoami\n",
        "from pathlib import Path\n",
        "\n",
        "def get_full_repo_name(model_id: str, organization: str = None, token: str = None):\n",
        "    if token is None:\n",
        "        token = HfFolder.get_token()\n",
        "    if organization is None:\n",
        "        username = whoami(token)[\"name\"]\n",
        "        return f\"{username}/{model_id}\"\n",
        "    else:\n",
        "        return f\"{organization}/{model_id}\"\n",
        "\n",
        "output_dir = \"mcbuildgen\" #@param {type:\"string\"}\n",
        "\n",
        "# Get the repo\n",
        "repo_name = get_full_repo_name(Path(output_dir).name)\n",
        "repo = Repository(output_dir, clone_from=repo_name)\n",
        "\n",
        "# Load the model\n",
        "model = UNet2DConditionModel.from_pretrained(\"mcbuildgen/models/Model 0001/\").cuda(); #0079"
      ]
    },
    {
      "cell_type": "markdown",
      "metadata": {
        "id": "zczdq32rYUvu"
      },
      "source": [
        "It is often a good idea to quickly check the sample image shape matches the model output shape:"
      ]
    },
    {
      "cell_type": "code",
      "execution_count": null,
      "metadata": {
        "id": "dDwWGmA2YUvv",
        "colab": {
          "base_uri": "https://localhost:8080/"
        },
        "outputId": "71647364-362c-4aa5-87a8-9a3b81b590cc"
      },
      "outputs": [
        {
          "output_type": "stream",
          "name": "stdout",
          "text": [
            "Prompt: buildings, houses, (19, 16, 19), Medieval Puritan Trader's House, ['medieval', ' medieval house', 'trader', 'medieval trader', ' house']\n",
            "New Padded Dimensions: torch.Size([64, 4, 64, 64])\n",
            "<class 'torch.Tensor'>\n",
            "Input shape: torch.Size([1, 4, 64, 64])\n",
            "Example Text Embeddings Shape: torch.Size([1, 11, 512])\n",
            "Output shape: torch.Size([1, 4, 64, 64])\n"
          ]
        }
      ],
      "source": [
        "import torch.nn as nn\n",
        "\n",
        "print(f\"Prompt: { dataset[0]['prompt'] }\")\n",
        "print(f\"New Padded Dimensions: { dataset[0]['images'].shape }\")\n",
        "\n",
        "# Get the base layer of the item and make a batch of 1\n",
        "sample_image = dataset[0][\"images\"][2].unsqueeze(0)\n",
        "#transforms.ToPILImage()(sample_image[0]).show()\n",
        "print(type(sample_image)) # This is now a tensor rather than an image\n",
        "print(\"Input shape:\", sample_image.shape) # Batch Size, Color Channels, Width, Depth\n",
        "\n",
        "# Tokenize the text before entering it into the model\n",
        "text = \"A description of the image you want to generate\"\n",
        "inputs = tokenizer(text, return_tensors=\"pt\")\n",
        "text_embeddings = text_encoder(**inputs).last_hidden_state\n",
        "\n",
        "print(f\"Example Text Embeddings Shape: { text_embeddings.shape }\")\n",
        "print(\"Output shape:\", model(sample_image, encoder_hidden_states=text_embeddings, timestep=0).sample.shape)\n",
        "\n",
        "# encoder_hidden_states=(batch_size, sequence_length, hidden_size) and for timestep try 500 times till final result for now\n",
        "# encoder_hidden_states=torch.zeros((sample_image.shape[0], 1, 1280))"
      ]
    },
    {
      "cell_type": "markdown",
      "metadata": {
        "id": "Zs2HiH4qYUvv"
      },
      "source": [
        "## Add Noise"
      ]
    },
    {
      "cell_type": "code",
      "execution_count": null,
      "metadata": {
        "id": "xRP_Y6pLYUvw",
        "colab": {
          "base_uri": "https://localhost:8080/",
          "height": 81
        },
        "outputId": "6ab83662-b082-4132-a71a-978ff63f9dd4"
      },
      "outputs": [
        {
          "output_type": "execute_result",
          "data": {
            "text/plain": [
              "<PIL.Image.Image image mode=RGBA size=64x64>"
            ],
            "image/png": "[encoded data removed]"
          },
          "metadata": {},
          "execution_count": 9
        }
      ],
      "source": [
        "import torch\n",
        "from PIL import Image\n",
        "from diffusers import DDPMScheduler\n",
        "\n",
        "noise_scheduler = DDPMScheduler(num_train_timesteps=1000)\n",
        "noise = torch.randn(sample_image.shape)\n",
        "timesteps = torch.LongTensor([50]).cuda()\n",
        "noisy_image = noise_scheduler.add_noise(sample_image, noise, timesteps)\n",
        "\n",
        "# Display the whole thing\n",
        "Image.fromarray(((noisy_image.permute(0, 2, 3, 1) + 1.0) * 127.5).type(torch.uint8).cpu().numpy()[0])"
      ]
    },
    {
      "cell_type": "code",
      "execution_count": null,
      "metadata": {
        "id": "ioh72bRwYUvw"
      },
      "outputs": [],
      "source": [
        "import torch.nn.functional as F\n",
        "\n",
        "noise_pred = model(noisy_image, timesteps, encoder_hidden_states=text_embeddings).sample\n",
        "loss = F.mse_loss(noise_pred, noise)"
      ]
    },
    {
      "cell_type": "markdown",
      "metadata": {
        "id": "wawFTJHAYUvw"
      },
      "source": [
        "## Train the model"
      ]
    },
    {
      "cell_type": "markdown",
      "metadata": {
        "id": "5XwUD1pkYUvx"
      },
      "source": [
        "By now, you have most of the pieces to start training the model and all that's left is putting everything together.\n",
        "\n",
        "First, you'll need an optimizer and a learning rate scheduler:"
      ]
    },
    {
      "cell_type": "code",
      "execution_count": null,
      "metadata": {
        "id": "JBIIMCV4YUvx"
      },
      "outputs": [],
      "source": [
        "from diffusers.optimization import get_cosine_schedule_with_warmup\n",
        "\n",
        "optimizer = torch.optim.AdamW(model.parameters(), lr=config.learning_rate)\n",
        "lr_scheduler = get_cosine_schedule_with_warmup(\n",
        "    optimizer=optimizer,\n",
        "    num_warmup_steps=config.lr_warmup_steps,\n",
        "    num_training_steps=(len(train_dataloader) * config.num_epochs),\n",
        ")"
      ]
    },
    {
      "cell_type": "markdown",
      "source": [
        "## Create the Pipeline"
      ],
      "metadata": {
        "id": "-Un1uugs4Js3"
      }
    },
    {
      "cell_type": "code",
      "source": [
        "import torch\n",
        "from typing import Optional, Tuple, Union\n",
        "from diffusers import DiffusionPipeline, ImagePipelineOutput\n",
        "from diffusers import DDPMPipeline\n",
        "\n",
        "torch.set_default_device('cuda')\n",
        "device = torch.device(\"cuda\")\n",
        "\n",
        "class DDPMConditionPipeline(DDPMPipeline):\n",
        "    def __init__(self, unet, scheduler, tokenizer, text_encoder):\n",
        "        super().__init__(unet=unet, scheduler=scheduler)\n",
        "        self.register_modules(tokenizer=tokenizer, text_encoder=text_encoder)\n",
        "\n",
        "    @torch.no_grad()\n",
        "    def __call__(\n",
        "        self,\n",
        "        batch_size: int = 1,\n",
        "        generator: Optional[torch.Generator] = None,\n",
        "        image: Optional[torch.FloatTensor] = None,\n",
        "        prompt: str = \"\",\n",
        "        output_type: Optional[str] = \"pil\",\n",
        "        return_dict: bool = True,\n",
        "        **kwargs,\n",
        "    ) -> Union[ImagePipelineOutput, Tuple]:\n",
        "        # Sample gaussian noise to begin loop\n",
        "        if image is None:\n",
        "            image = torch.randn(\n",
        "                (batch_size, self.unet.in_channels, self.unet.sample_size, self.unet.sample_size),\n",
        "                generator=generator,\n",
        "            )\n",
        "            image = image.to(self.device)\n",
        "\n",
        "        # set step values\n",
        "        self.scheduler.set_timesteps(1000)\n",
        "\n",
        "        # Use the same prompt for each one\n",
        "        text = [prompt for i in range(image.shape[0])]\n",
        "        inputs = tokenizer(text, return_tensors=\"pt\", padding=True, truncation=True)\n",
        "        text_embeddings = text_encoder(**inputs).last_hidden_state\n",
        "\n",
        "        for t in self.progress_bar(self.scheduler.timesteps):\n",
        "            # 1. predict noise model_output\n",
        "            model_output = self.unet(image, t, encoder_hidden_states=text_embeddings).sample\n",
        "\n",
        "            # 2. compute previous image: x_t -> t_t-1\n",
        "            image = self.scheduler.step(model_output, t, image, generator=generator).prev_sample\n",
        "\n",
        "        image = (image / 2 + 0.5).clamp(0, 1)\n",
        "        image = image.cpu().permute(0, 2, 3, 1).numpy()\n",
        "        if output_type == \"pil\":\n",
        "            image = self.numpy_to_pil(image)\n",
        "\n",
        "        if not return_dict:\n",
        "            return (image,)\n",
        "\n",
        "        return ImagePipelineOutput(images=image)"
      ],
      "metadata": {
        "id": "NsoSG2Sr4JK1"
      },
      "execution_count": null,
      "outputs": []
    },
    {
      "cell_type": "markdown",
      "metadata": {
        "id": "eJQNfYA-YUvz"
      },
      "source": [
        "Then, you'll need a way to evaluate the model. For evaluation, you can use the [DDPMPipeline](https://huggingface.co/docs/diffusers/main/en/api/pipelines/ddpm#diffusers.DDPMPipeline) to generate a batch of sample images and save it as a grid:"
      ]
    },
    {
      "cell_type": "code",
      "execution_count": null,
      "metadata": {
        "id": "Y7-9BZ61YUvz"
      },
      "outputs": [],
      "source": [
        "import math\n",
        "import os\n",
        "\n",
        "\n",
        "def make_grid(images, rows, cols):\n",
        "    w, h = images[0].size\n",
        "    grid = Image.new(\"RGBA\", size=(cols * w, rows * h))\n",
        "    for i, image in enumerate(images):\n",
        "        grid.paste(image, box=(i % cols * w, i // cols * h))\n",
        "    return grid\n",
        "\n",
        "\n",
        "def evaluate(config, epoch, pipeline, encoder_hidden_states=None):\n",
        "    # Sample some images from random noise (this is the backward diffusion process).\n",
        "    # The default pipeline output type is `List[PIL.Image]`\n",
        "    images = pipeline(\n",
        "        batch_size=config.eval_batch_size,\n",
        "        generator=torch.cuda.manual_seed(config.seed),\n",
        "        #prompt=\"outdoors, other-190, (6, 9, 6), Oakshire Well, ['well', 'medieval town well', 'draw-well']\"\n",
        "        prompt=\"buildings, houses, (19, 16, 19), Medieval Puritan Trader's House, ['medieval', ' medieval house', 'trader', 'medieval trader', ' house']\"\n",
        "    ).images\n",
        "\n",
        "    # Make a grid out of the images\n",
        "    image_grid = make_grid(images, rows=4, cols=4)\n",
        "\n",
        "    # Save the images\n",
        "    test_dir = os.path.join(config.output_dir, \"samples\")\n",
        "    os.makedirs(test_dir, exist_ok=True)\n",
        "    image_grid.save(f\"{test_dir}/{epoch:04d}.png\")"
      ]
    },
    {
      "cell_type": "markdown",
      "metadata": {
        "id": "dFmrFaDcYUv0"
      },
      "source": [
        "Now you can wrap all these components together in a training loop with 🤗 Accelerate for easy TensorBoard logging, gradient accumulation, and mixed precision training. To upload the model to the Hub, write a function to get your repository name and information and then push it to the Hub.\n",
        "\n",
        "<Tip>\n",
        "\n",
        "💡 The training loop below may look intimidating and long, but it'll be worth it later when you launch your training in just one line of code! If you can't wait and want to start generating images, feel free to copy and run the code below. You can always come back and examine the training loop more closely later, like when you're waiting for your model to finish training. 🤗\n",
        "\n",
        "</Tip>"
      ]
    },
    {
      "cell_type": "code",
      "execution_count": null,
      "metadata": {
        "id": "v9Sen0zbYUv0"
      },
      "outputs": [],
      "source": [
        "from accelerate import Accelerator\n",
        "from huggingface_hub import HfFolder, Repository, whoami\n",
        "from tqdm.auto import tqdm\n",
        "from pathlib import Path\n",
        "import torchvision.transforms as T\n",
        "import os\n",
        "\n",
        "\n",
        "def get_full_repo_name(model_id: str, organization: str = None, token: str = None):\n",
        "    if token is None:\n",
        "        token = HfFolder.get_token()\n",
        "    if organization is None:\n",
        "        username = whoami(token)[\"name\"]\n",
        "        return f\"{username}/{model_id}\"\n",
        "    else:\n",
        "        return f\"{organization}/{model_id}\"\n",
        "\n",
        "\n",
        "def train_loop(config, model, noise_scheduler, optimizer, train_dataloader, lr_scheduler):\n",
        "    # Initialize accelerator and tensorboard logging\n",
        "    accelerator = Accelerator(\n",
        "        mixed_precision=config.mixed_precision,\n",
        "        gradient_accumulation_steps=config.gradient_accumulation_steps,\n",
        "        log_with=\"tensorboard\",\n",
        "        project_dir=os.path.join(config.output_dir, \"logs\"),\n",
        "    )\n",
        "    if accelerator.is_main_process:\n",
        "        if config.push_to_hub:\n",
        "            repo_name = get_full_repo_name(Path(config.output_dir).name)\n",
        "            repo = Repository(config.output_dir, clone_from=repo_name)\n",
        "        elif config.output_dir is not None:\n",
        "            os.makedirs(config.output_dir, exist_ok=True)\n",
        "        accelerator.init_trackers(\"train_example\")\n",
        "\n",
        "    # Prepare everything\n",
        "    # There is no specific order to remember, you just need to unpack the\n",
        "    # objects in the same order you gave them to the prepare method.\n",
        "    model, optimizer, train_dataloader, lr_scheduler = accelerator.prepare(\n",
        "        model, optimizer, train_dataloader, lr_scheduler\n",
        "    )\n",
        "\n",
        "    global_step = 0\n",
        "\n",
        "    # Now you train the model\n",
        "    for epoch in range(config.num_epochs):\n",
        "        progress_bar = tqdm(total=len(train_dataloader), position=0, leave=True, disable=not accelerator.is_local_main_process)\n",
        "        progress_bar.set_description(f\"Epoch {epoch}\")\n",
        "\n",
        "        for step, batch in enumerate(train_dataloader):\n",
        "            # .select(1, 0) to start by generating the base layer\n",
        "            clean_images = batch[\"images\"].select(1, 0)\n",
        "            # Sample noise to add to the images\n",
        "            noise = torch.randn(clean_images.shape).to(clean_images.device)\n",
        "            bs = clean_images.shape[0]\n",
        "\n",
        "            # Sample a random timestep for each image\n",
        "            timesteps = torch.randint(\n",
        "                0, noise_scheduler.config.num_train_timesteps, (bs,), device=clean_images.device\n",
        "            ).long()\n",
        "\n",
        "            # Add noise to the clean images according to the noise magnitude at each timestep\n",
        "            # (this is the forward diffusion process)\n",
        "            # .select(1, 0).shape to get the base layer for now\n",
        "            noisy_images = noise_scheduler.add_noise(clean_images, noise, timesteps)\n",
        "\n",
        "            # Test\n",
        "            #T.ToPILImage()(clean_images[0]).show()\n",
        "            #T.ToPILImage()(noisy_images[0]).show()\n",
        "            #return\n",
        "\n",
        "            with accelerator.accumulate(model):\n",
        "                # Predict the noise residual\n",
        "                text = batch[\"prompt\"]\n",
        "                inputs = tokenizer(text, return_tensors=\"pt\", padding=True, truncation=True)\n",
        "                text_embeddings = text_encoder(**inputs).last_hidden_state\n",
        "\n",
        "                noise_pred = model(noisy_images, timesteps, return_dict=False, encoder_hidden_states=text_embeddings)[0]\n",
        "                # Checking against noise (matching against current image)\n",
        "                loss = F.mse_loss(noise_pred, noise)\n",
        "                # Checking against lower layer (matching against bottom image)\n",
        "                # loss = F.mse_loss(noise_pred, noise)\n",
        "\n",
        "                accelerator.backward(loss)\n",
        "\n",
        "                accelerator.clip_grad_norm_(model.parameters(), 1.0)\n",
        "                optimizer.step()\n",
        "                lr_scheduler.step()\n",
        "                optimizer.zero_grad()\n",
        "\n",
        "            # To generate following derived layers\n",
        "            for i in range(1, config.image_size):\n",
        "                # The layer we want to generate\n",
        "                clean_images = batch[\"images\"].select(1, i)\n",
        "                bs = clean_images.shape[0]\n",
        "\n",
        "                timesteps = torch.randint(\n",
        "                    0, noise_scheduler.config.num_train_timesteps, (bs,), device=clean_images.device\n",
        "                ).long()\n",
        "\n",
        "                # The layer below to generate based off of\n",
        "                base_images = batch[\"images\"].select(1, i - 1)\n",
        "\n",
        "                with accelerator.accumulate(model):\n",
        "                    # Predict the noise residual\n",
        "                    text = batch[\"prompt\"]\n",
        "                    inputs = tokenizer(text, return_tensors=\"pt\", padding=True, truncation=True)\n",
        "                    text_embeddings = text_encoder(**inputs).last_hidden_state\n",
        "\n",
        "                    noise_pred = model(base_images, timesteps, return_dict=False, encoder_hidden_states=text_embeddings)[0]\n",
        "                    # Checking against noise (matching against current image)\n",
        "                    #loss = F.mse_loss(noise_pred, noise)\n",
        "                    # Checking against lower layer (matching against bottom image)\n",
        "                    loss = F.mse_loss(noise_pred, base_images - clean_images)\n",
        "\n",
        "                    accelerator.backward(loss)\n",
        "\n",
        "                    accelerator.clip_grad_norm_(model.parameters(), 1.0)\n",
        "                    optimizer.step()\n",
        "                    lr_scheduler.step()\n",
        "                    optimizer.zero_grad()\n",
        "\n",
        "            progress_bar.update(1)\n",
        "            logs = {\"loss\": loss.detach().item(), \"lr\": lr_scheduler.get_last_lr()[0], \"step\": global_step}\n",
        "            progress_bar.set_postfix(**logs)\n",
        "            accelerator.log(logs, step=global_step)\n",
        "            global_step += 1\n",
        "\n",
        "        # After each epoch you optionally sample some demo images with evaluate() and save the model\n",
        "        if accelerator.is_main_process:\n",
        "            pipeline = DDPMConditionPipeline(unet=accelerator.unwrap_model(model), scheduler=noise_scheduler, tokenizer=tokenizer, text_encoder=text_encoder)\n",
        "\n",
        "            if (epoch + 1) % config.save_image_epochs == 0 or epoch == config.num_epochs - 1:\n",
        "                evaluate(config, epoch, pipeline, text_embeddings)\n",
        "\n",
        "            if (epoch + 1) % config.save_model_epochs == 0 or epoch == config.num_epochs - 1:\n",
        "                if config.push_to_hub:\n",
        "                    # Try saving the model\n",
        "                    model_dir = os.path.join(config.output_dir, \"models\")\n",
        "                    os.makedirs(model_dir, exist_ok=True)\n",
        "                    model.save_pretrained(f\"{model_dir}/Model {epoch:04d}\")\n",
        "\n",
        "                    repo.push_to_hub(commit_message=f\"Epoch {epoch}\", blocking=True)\n",
        "                else:\n",
        "                    pipeline.save_pretrained(config.output_dir)"
      ]
    },
    {
      "cell_type": "markdown",
      "metadata": {
        "id": "HsXrPejZYUv0"
      },
      "source": [
        "Phew, that was quite a bit of code! But you're finally ready to launch the training with 🤗 Accelerate's [notebook_launcher](https://huggingface.co/docs/accelerate/main/en/package_reference/launchers#accelerate.notebook_launcher) function. Pass the function the training loop, all the training arguments, and the number of processes (you can change this value to the number of GPUs available to you) to use for training:"
      ]
    },
    {
      "cell_type": "code",
      "execution_count": null,
      "metadata": {
        "id": "WKMlm0HTYUv0",
        "colab": {
          "base_uri": "https://localhost:8080/",
          "height": 194,
          "referenced_widgets": [
            "1b3204b084e243198e53d6a28d65bcbc",
            "7ada649117674396b5802823e3c3b2cc",
            "63155aa76f614eaf8aaebdc614449115",
            "1a29390ecd8f49e5aac1050eee215e57",
            "50019cfdd3184c98b9624939cdc08fed",
            "05b985664d2248ec86dd5c2d6e19fe4b",
            "70f2c813277c4da7ab6a679e10c328c1",
            "776d7af613c1486cb8b925a73efdc2ad",
            "c6265e4cb5464bd2b30f9407fe39976c",
            "ff391677cc034300a48f7902f3d568d0",
            "6691e4b61f1a49b897a63f86ac287aab"
          ]
        },
        "outputId": "903255ca-1145-4ace-9c28-acacfcc0636e"
      },
      "outputs": [
        {
          "output_type": "stream",
          "name": "stdout",
          "text": [
            "Launching training on one GPU.\n"
          ]
        },
        {
          "output_type": "stream",
          "name": "stderr",
          "text": [
            "/home/randomgamingdev/.asdf/installs/python/3.9.1/lib/python3.9/site-packages/huggingface_hub/utils/_deprecation.py:131: FutureWarning: 'Repository' (from 'huggingface_hub.repository') is deprecated and will be removed from version '1.0'. Please prefer the http-based alternatives instead. Given its large adoption in legacy code, the complete removal is only planned on next major release.\n",
            "For more details, please read https://huggingface.co/docs/huggingface_hub/concepts/git_vs_http.\n",
            "  warnings.warn(warning_message, FutureWarning)\n",
            "/home/randomgamingdev/mcbuildgen is already a clone of https://huggingface.co/RandomGamingDev/mcbuildgen. Make sure you pull the latest changes with `repo.git_pull()`.\n"
          ]
        },
        {
          "output_type": "display_data",
          "data": {
            "text/plain": [
              "  0%|          | 0/435 [00:00<?, ?it/s]"
            ],
            "application/vnd.jupyter.widget-view+json": {
              "version_major": 2,
              "version_minor": 0,
              "model_id": "1b3204b084e243198e53d6a28d65bcbc"
            }
          },
          "metadata": {}
        },
        {
          "output_type": "stream",
          "name": "stderr",
          "text": [
            "/home/randomgamingdev/.asdf/installs/python/3.9.1/lib/python3.9/site-packages/torch/utils/_device.py:78: UserWarning: Plan failed with a cudnnException: CUDNN_BACKEND_EXECUTION_PLAN_DESCRIPTOR: cudnnFinalize Descriptor Failed cudnn_status: CUDNN_STATUS_NOT_SUPPORTED (Triggered internally at ../aten/src/ATen/native/cudnn/Conv_v8.cpp:919.)\n",
            "  return func(*args, **kwargs)\n"
          ]
        }
      ],
      "source": [
        "from accelerate import notebook_launcher\n",
        "\n",
        "args = (config, model, noise_scheduler, optimizer, train_dataloader, lr_scheduler)\n",
        "\n",
        "notebook_launcher(train_loop, args, num_processes=1)"
      ]
    },
    {
      "cell_type": "markdown",
      "metadata": {
        "id": "8n5Ddfi-YUv0"
      },
      "source": [
        "Once training is complete, take a look at the final 🦋 images 🦋 generated by your diffusion model!"
      ]
    },
    {
      "cell_type": "code",
      "execution_count": null,
      "metadata": {
        "id": "CMqeFj8QYUv0"
      },
      "outputs": [],
      "source": [
        "import glob\n",
        "\n",
        "sample_images = sorted(glob.glob(f\"{config.output_dir}/samples/*.png\"))\n",
        "Image.open(sample_images[-1])"
      ]
    }
  ],
  "metadata": {
    "accelerator": "GPU",
    "colab": {
      "gpuType": "T4",
      "provenance": []
    },
    "kernelspec": {
      "display_name": "Python 3",
      "name": "python3"
    },
    "language_info": {
      "name": "python"
    },
    "widgets": {
      "application/vnd.jupyter.widget-state+json": {
        "1b3204b084e243198e53d6a28d65bcbc": {
          "model_module": "@jupyter-widgets/controls",
          "model_name": "HBoxModel",
          "model_module_version": "1.5.0",
          "state": {
            "_dom_classes": [],
            "_model_module": "@jupyter-widgets/controls",
            "_model_module_version": "1.5.0",
            "_model_name": "HBoxModel",
            "_view_count": null,
            "_view_module": "@jupyter-widgets/controls",
            "_view_module_version": "1.5.0",
            "_view_name": "HBoxView",
            "box_style": "",
            "children": [
              "IPY_MODEL_7ada649117674396b5802823e3c3b2cc",
              "IPY_MODEL_63155aa76f614eaf8aaebdc614449115",
              "IPY_MODEL_1a29390ecd8f49e5aac1050eee215e57"
            ],
            "layout": "IPY_MODEL_50019cfdd3184c98b9624939cdc08fed"
          }
        },
        "7ada649117674396b5802823e3c3b2cc": {
          "model_module": "@jupyter-widgets/controls",
          "model_name": "HTMLModel",
          "model_module_version": "1.5.0",
          "state": {
            "_dom_classes": [],
            "_model_module": "@jupyter-widgets/controls",
            "_model_module_version": "1.5.0",
            "_model_name": "HTMLModel",
            "_view_count": null,
            "_view_module": "@jupyter-widgets/controls",
            "_view_module_version": "1.5.0",
            "_view_name": "HTMLView",
            "description": "",
            "description_tooltip": null,
            "layout": "IPY_MODEL_05b985664d2248ec86dd5c2d6e19fe4b",
            "placeholder": "​",
            "style": "IPY_MODEL_70f2c813277c4da7ab6a679e10c328c1",
            "value": "Epoch 0:   0%"
          }
        },
        "63155aa76f614eaf8aaebdc614449115": {
          "model_module": "@jupyter-widgets/controls",
          "model_name": "FloatProgressModel",
          "model_module_version": "1.5.0",
          "state": {
            "_dom_classes": [],
            "_model_module": "@jupyter-widgets/controls",
            "_model_module_version": "1.5.0",
            "_model_name": "FloatProgressModel",
            "_view_count": null,
            "_view_module": "@jupyter-widgets/controls",
            "_view_module_version": "1.5.0",
            "_view_name": "ProgressView",
            "bar_style": "",
            "description": "",
            "description_tooltip": null,
            "layout": "IPY_MODEL_776d7af613c1486cb8b925a73efdc2ad",
            "max": 435,
            "min": 0,
            "orientation": "horizontal",
            "style": "IPY_MODEL_c6265e4cb5464bd2b30f9407fe39976c",
            "value": 0
          }
        },
        "1a29390ecd8f49e5aac1050eee215e57": {
          "model_module": "@jupyter-widgets/controls",
          "model_name": "HTMLModel",
          "model_module_version": "1.5.0",
          "state": {
            "_dom_classes": [],
            "_model_module": "@jupyter-widgets/controls",
            "_model_module_version": "1.5.0",
            "_model_name": "HTMLModel",
            "_view_count": null,
            "_view_module": "@jupyter-widgets/controls",
            "_view_module_version": "1.5.0",
            "_view_name": "HTMLView",
            "description": "",
            "description_tooltip": null,
            "layout": "IPY_MODEL_ff391677cc034300a48f7902f3d568d0",
            "placeholder": "​",
            "style": "IPY_MODEL_6691e4b61f1a49b897a63f86ac287aab",
            "value": " 0/435 [00:00&lt;?, ?it/s]"
          }
        },
        "50019cfdd3184c98b9624939cdc08fed": {
          "model_module": "@jupyter-widgets/base",
          "model_name": "LayoutModel",
          "model_module_version": "1.2.0",
          "state": {
            "_model_module": "@jupyter-widgets/base",
            "_model_module_version": "1.2.0",
            "_model_name": "LayoutModel",
            "_view_count": null,
            "_view_module": "@jupyter-widgets/base",
            "_view_module_version": "1.2.0",
            "_view_name": "LayoutView",
            "align_content": null,
            "align_items": null,
            "align_self": null,
            "border": null,
            "bottom": null,
            "display": null,
            "flex": null,
            "flex_flow": null,
            "grid_area": null,
            "grid_auto_columns": null,
            "grid_auto_flow": null,
            "grid_auto_rows": null,
            "grid_column": null,
            "grid_gap": null,
            "grid_row": null,
            "grid_template_areas": null,
            "grid_template_columns": null,
            "grid_template_rows": null,
            "height": null,
            "justify_content": null,
            "justify_items": null,
            "left": null,
            "margin": null,
            "max_height": null,
            "max_width": null,
            "min_height": null,
            "min_width": null,
            "object_fit": null,
            "object_position": null,
            "order": null,
            "overflow": null,
            "overflow_x": null,
            "overflow_y": null,
            "padding": null,
            "right": null,
            "top": null,
            "visibility": null,
            "width": null
          }
        },
        "05b985664d2248ec86dd5c2d6e19fe4b": {
          "model_module": "@jupyter-widgets/base",
          "model_name": "LayoutModel",
          "model_module_version": "1.2.0",
          "state": {
            "_model_module": "@jupyter-widgets/base",
            "_model_module_version": "1.2.0",
            "_model_name": "LayoutModel",
            "_view_count": null,
            "_view_module": "@jupyter-widgets/base",
            "_view_module_version": "1.2.0",
            "_view_name": "LayoutView",
            "align_content": null,
            "align_items": null,
            "align_self": null,
            "border": null,
            "bottom": null,
            "display": null,
            "flex": null,
            "flex_flow": null,
            "grid_area": null,
            "grid_auto_columns": null,
            "grid_auto_flow": null,
            "grid_auto_rows": null,
            "grid_column": null,
            "grid_gap": null,
            "grid_row": null,
            "grid_template_areas": null,
            "grid_template_columns": null,
            "grid_template_rows": null,
            "height": null,
            "justify_content": null,
            "justify_items": null,
            "left": null,
            "margin": null,
            "max_height": null,
            "max_width": null,
            "min_height": null,
            "min_width": null,
            "object_fit": null,
            "object_position": null,
            "order": null,
            "overflow": null,
            "overflow_x": null,
            "overflow_y": null,
            "padding": null,
            "right": null,
            "top": null,
            "visibility": null,
            "width": null
          }
        },
        "70f2c813277c4da7ab6a679e10c328c1": {
          "model_module": "@jupyter-widgets/controls",
          "model_name": "DescriptionStyleModel",
          "model_module_version": "1.5.0",
          "state": {
            "_model_module": "@jupyter-widgets/controls",
            "_model_module_version": "1.5.0",
            "_model_name": "DescriptionStyleModel",
            "_view_count": null,
            "_view_module": "@jupyter-widgets/base",
            "_view_module_version": "1.2.0",
            "_view_name": "StyleView",
            "description_width": ""
          }
        },
        "776d7af613c1486cb8b925a73efdc2ad": {
          "model_module": "@jupyter-widgets/base",
          "model_name": "LayoutModel",
          "model_module_version": "1.2.0",
          "state": {
            "_model_module": "@jupyter-widgets/base",
            "_model_module_version": "1.2.0",
            "_model_name": "LayoutModel",
            "_view_count": null,
            "_view_module": "@jupyter-widgets/base",
            "_view_module_version": "1.2.0",
            "_view_name": "LayoutView",
            "align_content": null,
            "align_items": null,
            "align_self": null,
            "border": null,
            "bottom": null,
            "display": null,
            "flex": null,
            "flex_flow": null,
            "grid_area": null,
            "grid_auto_columns": null,
            "grid_auto_flow": null,
            "grid_auto_rows": null,
            "grid_column": null,
            "grid_gap": null,
            "grid_row": null,
            "grid_template_areas": null,
            "grid_template_columns": null,
            "grid_template_rows": null,
            "height": null,
            "justify_content": null,
            "justify_items": null,
            "left": null,
            "margin": null,
            "max_height": null,
            "max_width": null,
            "min_height": null,
            "min_width": null,
            "object_fit": null,
            "object_position": null,
            "order": null,
            "overflow": null,
            "overflow_x": null,
            "overflow_y": null,
            "padding": null,
            "right": null,
            "top": null,
            "visibility": null,
            "width": null
          }
        },
        "c6265e4cb5464bd2b30f9407fe39976c": {
          "model_module": "@jupyter-widgets/controls",
          "model_name": "ProgressStyleModel",
          "model_module_version": "1.5.0",
          "state": {
            "_model_module": "@jupyter-widgets/controls",
            "_model_module_version": "1.5.0",
            "_model_name": "ProgressStyleModel",
            "_view_count": null,
            "_view_module": "@jupyter-widgets/base",
            "_view_module_version": "1.2.0",
            "_view_name": "StyleView",
            "bar_color": null,
            "description_width": ""
          }
        },
        "ff391677cc034300a48f7902f3d568d0": {
          "model_module": "@jupyter-widgets/base",
          "model_name": "LayoutModel",
          "model_module_version": "1.2.0",
          "state": {
            "_model_module": "@jupyter-widgets/base",
            "_model_module_version": "1.2.0",
            "_model_name": "LayoutModel",
            "_view_count": null,
            "_view_module": "@jupyter-widgets/base",
            "_view_module_version": "1.2.0",
            "_view_name": "LayoutView",
            "align_content": null,
            "align_items": null,
            "align_self": null,
            "border": null,
            "bottom": null,
            "display": null,
            "flex": null,
            "flex_flow": null,
            "grid_area": null,
            "grid_auto_columns": null,
            "grid_auto_flow": null,
            "grid_auto_rows": null,
            "grid_column": null,
            "grid_gap": null,
            "grid_row": null,
            "grid_template_areas": null,
            "grid_template_columns": null,
            "grid_template_rows": null,
            "height": null,
            "justify_content": null,
            "justify_items": null,
            "left": null,
            "margin": null,
            "max_height": null,
            "max_width": null,
            "min_height": null,
            "min_width": null,
            "object_fit": null,
            "object_position": null,
            "order": null,
            "overflow": null,
            "overflow_x": null,
            "overflow_y": null,
            "padding": null,
            "right": null,
            "top": null,
            "visibility": null,
            "width": null
          }
        },
        "6691e4b61f1a49b897a63f86ac287aab": {
          "model_module": "@jupyter-widgets/controls",
          "model_name": "DescriptionStyleModel",
          "model_module_version": "1.5.0",
          "state": {
            "_model_module": "@jupyter-widgets/controls",
            "_model_module_version": "1.5.0",
            "_model_name": "DescriptionStyleModel",
            "_view_count": null,
            "_view_module": "@jupyter-widgets/base",
            "_view_module_version": "1.2.0",
            "_view_name": "StyleView",
            "description_width": ""
          }
        }
      }
    }
  },
  "nbformat": 4,
  "nbformat_minor": 0
}